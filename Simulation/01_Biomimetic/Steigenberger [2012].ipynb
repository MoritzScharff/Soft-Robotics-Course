{
 "cells": [
  {
   "cell_type": "markdown",
   "id": "21b660fa",
   "metadata": {},
   "source": [
    "# Steigenberger [2012]"
   ]
  },
  {
   "cell_type": "code",
   "execution_count": 1,
   "id": "996bcf8c",
   "metadata": {},
   "outputs": [
    {
     "name": "stdout",
     "output_type": "stream",
     "text": [
      "Once deleted, variables cannot be recovered. Proceed (y/[n])? y\n"
     ]
    }
   ],
   "source": [
    "%reset"
   ]
  },
  {
   "cell_type": "code",
   "execution_count": 2,
   "id": "bf7907ea",
   "metadata": {},
   "outputs": [],
   "source": [
    "import sympy as sym\n",
    "import numpy as np\n",
    "import matplotlib.pyplot as plt\n",
    "from sympy import Function, Symbol, Eq, solve, dsolve, Derivative, Matrix, Transpose\n",
    "from sympy import *\n",
    "from sympy.vector import *"
   ]
  },
  {
   "cell_type": "markdown",
   "id": "c8f2dd40",
   "metadata": {},
   "source": [
    "[Sketch](Overview and Biomimetic.png)\n",
    "\n",
    "We are going to use Euler-Bernoulli beam theory for small/linear and large/nonlinear deflection.\n",
    "This theory is resticted by:\n",
    "- The length of the beam must be much larger than its diameter;\n",
    "- 2D displacement and deformation\n",
    "- quastistatic conditions\n",
    "\n",
    "For the whisker we assume:\n",
    "- straight\n",
    "- cylindrical\n",
    "- linear elastic, homogenous material\n",
    "- one-sided clamped\n",
    "- load at the tip (direction preserving)"
   ]
  },
  {
   "cell_type": "markdown",
   "id": "f28f8884",
   "metadata": {},
   "source": [
    "## Definition of variables and functions\n",
    "\n",
    "with the variables: \n",
    "- $x$ as position along the beam [m]\n",
    "- $E$ as Young's modulus [N/m$^2$]\n",
    "- $I_z$ as second moment of area [m$^4$]\n",
    "- $F$ as load / force [N]\n",
    "- $L$ as length of the beam [m]\n",
    "\n",
    "and the functions:\n",
    "- $M(x)$ as bending moment along the beam longitudinal axis [Nm]\n",
    "- $v(x)$ Elastica [m]\n",
    "- $\\kappa(x)$ curvature [1/m]\n"
   ]
  },
  {
   "cell_type": "code",
   "execution_count": 337,
   "id": "1d784bf6",
   "metadata": {},
   "outputs": [],
   "source": [
    "x, E, Iz, F, L = sym.symbols('x, E, Iz, F, L',real = 'True')\n",
    "kappa = Function('kappa')(x)\n",
    "M = Function('M')\n",
    "v = Function('v')"
   ]
  },
  {
   "cell_type": "markdown",
   "id": "c3efe966",
   "metadata": {},
   "source": [
    "Starting with the constitutive equation:"
   ]
  },
  {
   "cell_type": "code",
   "execution_count": 338,
   "id": "6c3bfc48",
   "metadata": {},
   "outputs": [
    {
     "data": {
      "text/latex": [
       "$\\displaystyle \\kappa{\\left(x \\right)} = \\frac{M{\\left(x \\right)}}{E Iz}$"
      ],
      "text/plain": [
       "Eq(kappa(x), M(x)/(E*Iz))"
      ]
     },
     "execution_count": 338,
     "metadata": {},
     "output_type": "execute_result"
    }
   ],
   "source": [
    "eq1 = Eq(kappa,M(x)/(E*Iz))\n",
    "eq1"
   ]
  },
  {
   "cell_type": "code",
   "execution_count": 339,
   "id": "445b06ab",
   "metadata": {},
   "outputs": [],
   "source": [
    "sol = solve(eq1, kappa)\n",
    "kappa = sol[0] # assign kappa(x)"
   ]
  },
  {
   "cell_type": "markdown",
   "id": "376b7942",
   "metadata": {},
   "source": [
    "Curvature of a curve in the plane and combining it with the constitutive equation to Euler-Bernoulli beam equation:"
   ]
  },
  {
   "cell_type": "code",
   "execution_count": 340,
   "id": "964e9d4d",
   "metadata": {},
   "outputs": [
    {
     "data": {
      "text/latex": [
       "$\\displaystyle \\frac{\\frac{d^{2}}{d x^{2}} v{\\left(x \\right)}}{\\left(\\left(\\frac{d}{d x} v{\\left(x \\right)}\\right)^{2} + 1\\right)^{1.5}} = \\frac{M{\\left(x \\right)}}{E Iz}$"
      ],
      "text/plain": [
       "Eq((Derivative(v(x), x)**2 + 1)**(-1.5)*Derivative(v(x), (x, 2)), M(x)/(E*Iz))"
      ]
     },
     "execution_count": 340,
     "metadata": {},
     "output_type": "execute_result"
    }
   ],
   "source": [
    "eq2 = Eq(diff(v(x),x,x) / (1+(diff(v(x),x))**2)**(3/2), kappa)\n",
    "eq2"
   ]
  },
  {
   "cell_type": "markdown",
   "id": "bd78a192",
   "metadata": {},
   "source": [
    "## Linear Case"
   ]
  },
  {
   "cell_type": "markdown",
   "id": "6a2d4536",
   "metadata": {},
   "source": [
    "Assumption of small deflection $v'(x) << small$:"
   ]
  },
  {
   "cell_type": "code",
   "execution_count": 341,
   "id": "e8a4d438",
   "metadata": {
    "scrolled": true
   },
   "outputs": [
    {
     "data": {
      "text/latex": [
       "$\\displaystyle \\frac{d^{2}}{d x^{2}} v{\\left(x \\right)} = \\frac{M{\\left(x \\right)}}{E Iz}$"
      ],
      "text/plain": [
       "Eq(Derivative(v(x), (x, 2)), M(x)/(E*Iz))"
      ]
     },
     "execution_count": 341,
     "metadata": {},
     "output_type": "execute_result"
    }
   ],
   "source": [
    "eq2_lin = eq2.subs((diff(v(x),x))**2,0)\n",
    "eq2_lin"
   ]
  },
  {
   "cell_type": "markdown",
   "id": "e8ac458a",
   "metadata": {},
   "source": [
    "Solving the linear ordinary differential equation of second orden and with constant coefficients:"
   ]
  },
  {
   "cell_type": "code",
   "execution_count": 342,
   "id": "4c9b7835",
   "metadata": {},
   "outputs": [
    {
     "data": {
      "text/latex": [
       "$\\displaystyle v{\\left(x \\right)} = \\frac{x \\left(- \\frac{F L x}{2} + \\frac{F x^{2}}{6}\\right)}{E Iz}$"
      ],
      "text/plain": [
       "Eq(v(x), x*(-F*L*x/2 + F*x**2/6)/(E*Iz))"
      ]
     },
     "execution_count": 342,
     "metadata": {},
     "output_type": "execute_result"
    }
   ],
   "source": [
    "sol = dsolve(eq2_lin.subs(M(x),-F*(L-x)), ics={v(0):0, diff(v(x),x).subs(x,0):0})\n",
    "sol"
   ]
  },
  {
   "cell_type": "markdown",
   "id": "db19ac7e",
   "metadata": {},
   "source": [
    "Assigning values to the varables"
   ]
  },
  {
   "cell_type": "code",
   "execution_count": 343,
   "id": "446c6941",
   "metadata": {},
   "outputs": [],
   "source": [
    "F_val = 0.1\n",
    "L_val = 0.1\n",
    "E_val = 2.1E11\n",
    "Iz_val = np.pi/64*1E-3**4\n",
    "sol = sol.subs([(F, F_val), (L, L_val), (E, E_val), (Iz, Iz_val)])\n"
   ]
  },
  {
   "cell_type": "markdown",
   "id": "d9d47fcb",
   "metadata": {},
   "source": [
    "Make a numpy-ready function from the sympy results:"
   ]
  },
  {
   "cell_type": "code",
   "execution_count": 344,
   "id": "04b96076",
   "metadata": {},
   "outputs": [],
   "source": [
    "vx = lambdify(x, sol.rhs,'numpy')\n",
    "x_vals = np.arange(0,L_val+0.1,0.1)\n",
    "y_vals = vx(x_vals)"
   ]
  },
  {
   "cell_type": "code",
   "execution_count": 345,
   "id": "b32ddcc3",
   "metadata": {},
   "outputs": [
    {
     "data": {
      "text/plain": [
       "[<matplotlib.lines.Line2D at 0x21dd92e64c0>]"
      ]
     },
     "execution_count": 345,
     "metadata": {},
     "output_type": "execute_result"
    },
    {
     "data": {
      "image/png": "[encoded data removed]",
      "text/plain": [
       "<Figure size 432x288 with 1 Axes>"
      ]
     },
     "metadata": {
      "needs_background": "light"
     },
     "output_type": "display_data"
    }
   ],
   "source": [
    "plt.plot(x_vals,y_vals)"
   ]
  },
  {
   "cell_type": "markdown",
   "id": "f2f7d2e2",
   "metadata": {},
   "source": [
    "## Nonlinear case"
   ]
  },
  {
   "cell_type": "markdown",
   "id": "be1a64a5",
   "metadata": {},
   "source": [
    "Re-formulating the Euler-Bernoulli beam equation:"
   ]
  },
  {
   "cell_type": "code",
   "execution_count": 438,
   "id": "c596cc8b",
   "metadata": {},
   "outputs": [
    {
     "data": {
      "text/latex": [
       "$\\displaystyle \\frac{\\frac{d^{2}}{d x^{2}} v{\\left(x \\right)}}{\\left(\\left(\\frac{d}{d x} v{\\left(x \\right)}\\right)^{2} + 1\\right)^{1.5}} = \\frac{M{\\left(x \\right)}}{E Iz}$"
      ],
      "text/plain": [
       "Eq((Derivative(v(x), x)**2 + 1)**(-1.5)*Derivative(v(x), (x, 2)), M(x)/(E*Iz))"
      ]
     },
     "execution_count": 438,
     "metadata": {},
     "output_type": "execute_result"
    }
   ],
   "source": [
    "eq2"
   ]
  },
  {
   "cell_type": "markdown",
   "id": "b05b5d5a",
   "metadata": {},
   "source": [
    "Switching over to a parametric representation of a curve in a plane:"
   ]
  },
  {
   "cell_type": "code",
   "execution_count": 439,
   "id": "25fa9a52",
   "metadata": {},
   "outputs": [],
   "source": [
    "s, E, Iz, L = sym.symbols('s, E, Iz, L')\n",
    "x = Function('x')\n",
    "y = Function('y')\n",
    "M = Function('M')\n",
    "varphi = Function('varphi')\n",
    "kappa = Function('kappa')"
   ]
  },
  {
   "cell_type": "code",
   "execution_count": 440,
   "id": "d7c19555",
   "metadata": {},
   "outputs": [
    {
     "data": {
      "text/latex": [
       "$\\displaystyle \\frac{d}{d s} x{\\left(s \\right)} = \\cos{\\left(\\varphi{\\left(s \\right)} \\right)}$"
      ],
      "text/plain": [
       "Eq(Derivative(x(s), s), cos(varphi(s)))"
      ]
     },
     "execution_count": 440,
     "metadata": {},
     "output_type": "execute_result"
    }
   ],
   "source": [
    "eq_x = Eq(diff(x(s),s),cos(varphi(s)))\n",
    "eq_x"
   ]
  },
  {
   "cell_type": "code",
   "execution_count": 441,
   "id": "fc92f3c2",
   "metadata": {},
   "outputs": [
    {
     "data": {
      "text/latex": [
       "$\\displaystyle \\frac{d}{d s} y{\\left(s \\right)} = \\sin{\\left(\\varphi{\\left(s \\right)} \\right)}$"
      ],
      "text/plain": [
       "Eq(Derivative(y(s), s), sin(varphi(s)))"
      ]
     },
     "execution_count": 441,
     "metadata": {},
     "output_type": "execute_result"
    }
   ],
   "source": [
    "eq_y = Eq(diff(y(s),s),sin(varphi(s)))\n",
    "eq_y"
   ]
  },
  {
   "cell_type": "code",
   "execution_count": 442,
   "id": "bb61dfcb",
   "metadata": {},
   "outputs": [
    {
     "data": {
      "text/latex": [
       "$\\displaystyle \\frac{d}{d s} \\varphi{\\left(s \\right)} = \\kappa{\\left(s \\right)}$"
      ],
      "text/plain": [
       "Eq(Derivative(varphi(s), s), kappa(s))"
      ]
     },
     "execution_count": 442,
     "metadata": {},
     "output_type": "execute_result"
    }
   ],
   "source": [
    "eq_phi = Eq(diff(varphi(s),s),kappa(s))\n",
    "eq_phi"
   ]
  },
  {
   "cell_type": "code",
   "execution_count": 443,
   "id": "3608cbf6",
   "metadata": {},
   "outputs": [
    {
     "data": {
      "text/latex": [
       "$\\displaystyle \\kappa{\\left(s \\right)} = \\frac{M{\\left(s \\right)}}{E Iz}$"
      ],
      "text/plain": [
       "Eq(kappa(s), M(s)/(E*Iz))"
      ]
     },
     "execution_count": 443,
     "metadata": {},
     "output_type": "execute_result"
    }
   ],
   "source": [
    "eq_kappa = Eq(kappa(s),M(s)/(E*Iz))\n",
    "eq_kappa"
   ]
  },
  {
   "cell_type": "markdown",
   "id": "094b17c8",
   "metadata": {},
   "source": [
    "This four equations forms a nonlinear differential equation system.\n",
    "A description for $M(s)$ is still missing."
   ]
  },
  {
   "cell_type": "markdown",
   "id": "a2adf499",
   "metadata": {},
   "source": [
    "Defining $\\vec{F}$:"
   ]
  },
  {
   "cell_type": "code",
   "execution_count": 445,
   "id": "0d780628",
   "metadata": {},
   "outputs": [
    {
     "data": {
      "text/latex": [
       "$\\displaystyle \\left[\\begin{matrix}0 & - F & 0\\end{matrix}\\right]$"
      ],
      "text/plain": [
       "Matrix([[0, -F, 0]])"
      ]
     },
     "execution_count": 445,
     "metadata": {},
     "output_type": "execute_result"
    }
   ],
   "source": [
    "F_vec = Matrix([[0, -F, 0]])\n",
    "F_vec"
   ]
  },
  {
   "cell_type": "markdown",
   "id": "16f33aad",
   "metadata": {},
   "source": [
    "and defining $\\vec{r}$:"
   ]
  },
  {
   "cell_type": "code",
   "execution_count": 446,
   "id": "7d259953",
   "metadata": {},
   "outputs": [
    {
     "data": {
      "text/latex": [
       "$\\displaystyle \\left[\\begin{matrix}x{\\left(L \\right)} - x{\\left(s \\right)} & 0 & 0\\end{matrix}\\right]$"
      ],
      "text/plain": [
       "Matrix([[x(L) - x(s), 0, 0]])"
      ]
     },
     "execution_count": 446,
     "metadata": {},
     "output_type": "execute_result"
    }
   ],
   "source": [
    "r_vec = Matrix([[x(L)-x(s), 0, 0]])\n",
    "r_vec"
   ]
  },
  {
   "cell_type": "markdown",
   "id": "442f589e",
   "metadata": {},
   "source": [
    "Calculating the cross-product $\\vec{r}$ x $\\vec{F}$ and selecting the component in $z$-direction:"
   ]
  },
  {
   "cell_type": "code",
   "execution_count": 447,
   "id": "fa3c4b69",
   "metadata": {},
   "outputs": [
    {
     "data": {
      "text/latex": [
       "$\\displaystyle - F \\left(x{\\left(L \\right)} - x{\\left(s \\right)}\\right)$"
      ],
      "text/plain": [
       "-F*(x(L) - x(s))"
      ]
     },
     "execution_count": 447,
     "metadata": {},
     "output_type": "execute_result"
    }
   ],
   "source": [
    "M_vec = r_vec.cross(F_vec)\n",
    "M_z = M_vec[2]\n",
    "M_z"
   ]
  },
  {
   "cell_type": "markdown",
   "id": "3b7675dd",
   "metadata": {},
   "source": [
    "Putting $M_z$ in the constitutive equation:"
   ]
  },
  {
   "cell_type": "code",
   "execution_count": 448,
   "id": "76b864ec",
   "metadata": {},
   "outputs": [
    {
     "data": {
      "text/latex": [
       "$\\displaystyle \\kappa{\\left(s \\right)} = - \\frac{F \\left(x{\\left(L \\right)} - x{\\left(s \\right)}\\right)}{E Iz}$"
      ],
      "text/plain": [
       "Eq(kappa(s), -F*(x(L) - x(s))/(E*Iz))"
      ]
     },
     "execution_count": 448,
     "metadata": {},
     "output_type": "execute_result"
    }
   ],
   "source": [
    "eq_kappa = eq_kappa.subs(M(s),M_z)\n",
    "eq_kappa"
   ]
  },
  {
   "cell_type": "markdown",
   "id": "7e7b9a54",
   "metadata": {},
   "source": [
    "Putting $\\kappa(s)$ in the ODE sys:"
   ]
  },
  {
   "cell_type": "code",
   "execution_count": 450,
   "id": "9411c1a4",
   "metadata": {},
   "outputs": [
    {
     "data": {
      "text/latex": [
       "$\\displaystyle \\frac{d}{d s} x{\\left(s \\right)} = \\cos{\\left(\\varphi{\\left(s \\right)} \\right)}$"
      ],
      "text/plain": [
       "Eq(Derivative(x(s), s), cos(varphi(s)))"
      ]
     },
     "metadata": {},
     "output_type": "display_data"
    },
    {
     "data": {
      "text/latex": [
       "$\\displaystyle \\frac{d}{d s} y{\\left(s \\right)} = \\sin{\\left(\\varphi{\\left(s \\right)} \\right)}$"
      ],
      "text/plain": [
       "Eq(Derivative(y(s), s), sin(varphi(s)))"
      ]
     },
     "metadata": {},
     "output_type": "display_data"
    },
    {
     "data": {
      "text/latex": [
       "$\\displaystyle \\frac{d}{d s} \\varphi{\\left(s \\right)} = - \\frac{F \\left(x{\\left(L \\right)} - x{\\left(s \\right)}\\right)}{E Iz}$"
      ],
      "text/plain": [
       "Eq(Derivative(varphi(s), s), -F*(x(L) - x(s))/(E*Iz))"
      ]
     },
     "metadata": {},
     "output_type": "display_data"
    }
   ],
   "source": [
    "eq_phi = eq_phi.subs(kappa(s),eq_kappa.rhs)\n",
    "display(eq_x, eq_y, eq_phi)"
   ]
  },
  {
   "cell_type": "markdown",
   "id": "7a8d317d",
   "metadata": {},
   "source": [
    "What is the problem with this ODE sys?"
   ]
  },
  {
   "cell_type": "markdown",
   "id": "1f854e50",
   "metadata": {},
   "source": [
    "Boundary conditions:\n",
    "\\begin{align*}\n",
    "x(0) = 0 &\\qquad &x(L) = ?\\\\\n",
    "y(0) = 0 &\\qquad &y(L) = ?\\\\\n",
    "\\varphi(0) = 0 &\\qquad & \\varphi(L) = ?\n",
    "\\end{align*}\n",
    "\n",
    "We do not know at the beginning $x(L)$ but is is necessary ... so we have to guess something. \n",
    "- shooting method\n",
    "- optimization\n",
    "- switch over to normal python ..."
   ]
  },
  {
   "cell_type": "code",
   "execution_count": null,
   "id": "268a46a4",
   "metadata": {},
   "outputs": [],
   "source": []
  },
  {
   "cell_type": "code",
   "execution_count": null,
   "id": "e3344dae",
   "metadata": {},
   "outputs": [],
   "source": []
  }
 ],
 "metadata": {
  "kernelspec": {
   "display_name": "Python 3 (ipykernel)",
   "language": "python",
   "name": "python3"
  },
  "language_info": {
   "codemirror_mode": {
    "name": "ipython",
    "version": 3
   },
   "file_extension": ".py",
   "mimetype": "text/x-python",
   "name": "python",
   "nbconvert_exporter": "python",
   "pygments_lexer": "ipython3",
   "version": "3.9.6"
  }
 },
 "nbformat": 4,
 "nbformat_minor": 5
}
