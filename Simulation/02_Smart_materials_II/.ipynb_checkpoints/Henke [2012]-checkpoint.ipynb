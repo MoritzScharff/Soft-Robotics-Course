{
 "cells": [
  {
   "cell_type": "markdown",
   "id": "21b660fa",
   "metadata": {},
   "source": [
    "# Henke [2012]"
   ]
  },
  {
   "cell_type": "code",
   "execution_count": 362,
   "id": "996bcf8c",
   "metadata": {},
   "outputs": [
    {
     "name": "stdout",
     "output_type": "stream",
     "text": [
      "Once deleted, variables cannot be recovered. Proceed (y/[n])? y\n"
     ]
    }
   ],
   "source": [
    "%reset"
   ]
  },
  {
   "cell_type": "code",
   "execution_count": 363,
   "id": "bf7907ea",
   "metadata": {},
   "outputs": [],
   "source": [
    "import sympy as sym\n",
    "import numpy as np\n",
    "import matplotlib.pyplot as plt\n",
    "from sympy import Function, Symbol, Eq, solve, dsolve, Derivative, Matrix, Transpose, separatevars\n",
    "from sympy import *\n",
    "from sympy.vector import *\n",
    "from IPython.display import Math, Latex"
   ]
  },
  {
   "cell_type": "markdown",
   "id": "55f5d4a1",
   "metadata": {},
   "source": [
    "## Introduction\n",
    "\n",
    "Basic idea:\n",
    "- Design of a smart material structure that can adapt to different loading conditions;\n",
    "- use in lightweight constructions;\n",
    "- here, smart means control/change of the stiffness of the structure;\n",
    "- stiffness consits of two things: Material properties (e.g. Young's modulus) and part geometry (e.g. second moment of area)\n",
    "- one way to do so is to usw shape memory polymers (SMPs), they change their Young's modulus due to heat\n",
    "- change of second moment of area needs sophisticated mechanical designs\n",
    "- the stiffness od layered structures can be changed by controlling the normal force between the layer and therfeore, the frictional force as well\n",
    "- Henke et al. chose a multi-layer, stacked beam structure consisting of EAPs"
   ]
  },
  {
   "cell_type": "markdown",
   "id": "d766bcee",
   "metadata": {},
   "source": [
    "## Theoretical background\n",
    "\n",
    "Definition of variables:\n",
    "- $k$ as stiffness of a one-sided clamped beam with froce at its free end [N/m]\n",
    "- $F$ as force [N]\n",
    "- $u$ as displacement at the free end of the beam [m]\n",
    "- $E$ as Young's modulus [N/m$^2$]\n",
    "- $J$ as second moment of area [m$^4$]\n",
    "- $l$ as length of the beam [m]\n",
    "- $b$ as width of the beam [m]\n",
    "- $h$ as height of the beam [m]\n",
    "- $h_0$ as height of one layer of the beam [m]\n",
    "- $N$ as number of Layers [-]"
   ]
  },
  {
   "cell_type": "markdown",
   "id": "c8f2dd40",
   "metadata": {},
   "source": [
    "![Sketch](sketch.png)\n",
    "\n"
   ]
  },
  {
   "cell_type": "markdown",
   "id": "00b31b8a",
   "metadata": {},
   "source": [
    "### Equation (1)\n",
    "\n",
    "Where does this equation come from? \n",
    "- Euler-Bernoulli beam theory\n",
    "- assumption probably small deflection, because for large deflections this will be different\n",
    "- compare Steigenberger [2012]"
   ]
  },
  {
   "cell_type": "code",
   "execution_count": 364,
   "id": "ca3c29f5",
   "metadata": {},
   "outputs": [],
   "source": [
    "x, z, E, J, F, l, k, b, h, h0, N = sym.symbols('x, z, E, J, F, l, k, b, h, h0, N',real = 'True')\n",
    "M = Function('M')\n",
    "u = Function('u')"
   ]
  },
  {
   "cell_type": "code",
   "execution_count": 365,
   "id": "bac1156b",
   "metadata": {},
   "outputs": [
    {
     "data": {
      "text/latex": [
       "$\\displaystyle M{\\left(x \\right)} = - F \\left(l - x\\right)$"
      ],
      "text/plain": [
       "Eq(M(x), -F*(l - x))"
      ]
     },
     "metadata": {},
     "output_type": "display_data"
    },
    {
     "data": {
      "text/latex": [
       "$\\displaystyle \\frac{d^{2}}{d x^{2}} u{\\left(x \\right)} = \\frac{M{\\left(x \\right)}}{E J}$"
      ],
      "text/plain": [
       "Eq(Derivative(u(x), (x, 2)), M(x)/(E*J))"
      ]
     },
     "metadata": {},
     "output_type": "display_data"
    }
   ],
   "source": [
    "eq1 = Eq(M(x), -F*(l-x))\n",
    "eq2 = Eq(diff(u(x),x,x),M(x)/(E*J))\n",
    "\n",
    "display(eq1, eq2)"
   ]
  },
  {
   "cell_type": "code",
   "execution_count": 366,
   "id": "49bacbd1",
   "metadata": {},
   "outputs": [
    {
     "data": {
      "text/latex": [
       "$\\displaystyle F \\left(- l + x\\right)$"
      ],
      "text/plain": [
       "F*(-l + x)"
      ]
     },
     "execution_count": 366,
     "metadata": {},
     "output_type": "execute_result"
    }
   ],
   "source": [
    "sol = solve(eq1,M(x))\n",
    "sol[0]"
   ]
  },
  {
   "cell_type": "code",
   "execution_count": 367,
   "id": "d2e9b422",
   "metadata": {},
   "outputs": [
    {
     "data": {
      "text/latex": [
       "$\\displaystyle u{\\left(x \\right)} = \\frac{x \\left(- \\frac{F l x}{2} + \\frac{F x^{2}}{6}\\right)}{E J}$"
      ],
      "text/plain": [
       "Eq(u(x), x*(-F*l*x/2 + F*x**2/6)/(E*J))"
      ]
     },
     "execution_count": 367,
     "metadata": {},
     "output_type": "execute_result"
    }
   ],
   "source": [
    "dsol = dsolve(eq2.subs(M(x),sol[0]), ics={u(0):0, diff(u(x),x).subs(x,0):0})\n",
    "dsol"
   ]
  },
  {
   "cell_type": "code",
   "execution_count": 368,
   "id": "2a857904",
   "metadata": {},
   "outputs": [
    {
     "data": {
      "text/latex": [
       "$\\displaystyle k = \\frac{3 E J}{l^{3}}$"
      ],
      "text/plain": [
       "Eq(k, 3*E*J/l**3)"
      ]
     },
     "metadata": {},
     "output_type": "display_data"
    }
   ],
   "source": [
    "EQ1 = Eq(k, -F/dsol.rhs.subs(x,l))\n",
    "display(EQ1)"
   ]
  },
  {
   "cell_type": "markdown",
   "id": "0973b8cb",
   "metadata": {},
   "source": [
    "### Equation (2)\n",
    "- \"Text book\" equation\n",
    "- change with respect to the vertical direction / height of the beam\n",
    "- consequently, $dA = z * b$ whereby b is constant\n",
    "- integration takes places from $-\\frac{h}{2}$ to $+\\frac{h}{2}$"
   ]
  },
  {
   "cell_type": "code",
   "execution_count": 369,
   "id": "bea13a3d",
   "metadata": {},
   "outputs": [
    {
     "data": {
      "text/latex": [
       "$\\displaystyle \\frac{b h^{3}}{12}$"
      ],
      "text/plain": [
       "b*h**3/12"
      ]
     },
     "metadata": {},
     "output_type": "display_data"
    }
   ],
   "source": [
    "J = integrate(b*z**2,(z,-h/2,h/2))\n",
    "display(J)"
   ]
  },
  {
   "cell_type": "markdown",
   "id": "c0f43307",
   "metadata": {},
   "source": [
    "### Equations (3) & (4) & (5)\n",
    "\n",
    "- exemplarily, a structure with four layers $N=4$ of thickness $h_0$ considering $4 \\cdot h_0 = h$\n",
    "- $J_a$ with independent layers / no connection\n",
    "- $J_b$ with joined layers"
   ]
  },
  {
   "cell_type": "markdown",
   "id": "266be9c1",
   "metadata": {},
   "source": [
    "![Sketch](sketch2.png)"
   ]
  },
  {
   "cell_type": "markdown",
   "id": "f01aa904",
   "metadata": {},
   "source": [
    "- for (a)  Steiner's theorem must be used\n",
    "- $J_a = J_1 + J_2 + J_3 + J_4$\n",
    "- $J_1 = J_{10} + J_{1S}$\n",
    "- $J_{10} = \\frac{b \\cdot h_0^3}{12}$\n",
    "- $J_{1S} = z^2 \\cdot A$ "
   ]
  },
  {
   "cell_type": "code",
   "execution_count": 370,
   "id": "27ddf0ba",
   "metadata": {},
   "outputs": [
    {
     "data": {
      "text/latex": [
       "$\\displaystyle \\frac{b h_{0}^{3}}{3}$"
      ],
      "text/plain": [
       "b*h0**3/3"
      ]
     },
     "metadata": {},
     "output_type": "display_data"
    },
    {
     "data": {
      "text/latex": [
       "$\\displaystyle \\frac{16 b h_{0}^{3}}{3}$"
      ],
      "text/plain": [
       "16*b*h0**3/3"
      ]
     },
     "metadata": {},
     "output_type": "display_data"
    },
    {
     "data": {
      "text/latex": [
       "$\\displaystyle 16 = N^{2}$"
      ],
      "text/plain": [
       "Eq(16, N**2)"
      ]
     },
     "metadata": {},
     "output_type": "display_data"
    }
   ],
   "source": [
    "J1 = integrate(b*z**2,(z,-h0/2,h0/2)) + h0*b * (3/2*h0-0)\n",
    "J2 = integrate(b*z**2,(z,-h0/2,h0/2)) + h0*b * (1/2*h0-0)\n",
    "J3 = integrate(b*z**2,(z,-h0/2,h0/2)) + h0*b * (-1/2*h0-0)\n",
    "J4 = integrate(b*z**2,(z,-h0/2,h0/2)) + h0*b * (-3/2*h0-0)\n",
    "Ja = J1 + J2 + J3 + J4\n",
    "\n",
    "Jb = integrate(b*z**2,(z,-4*h0/2,4*h0/2))\n",
    "\n",
    "eq5 = Eq(Jb/Ja,N**2)\n",
    "display(Ja, Jb, eq5)"
   ]
  },
  {
   "cell_type": "markdown",
   "id": "1c79dcca",
   "metadata": {},
   "source": [
    "- the number of layers scales the stiffness with a power of 2"
   ]
  },
  {
   "cell_type": "markdown",
   "id": "3e266a54",
   "metadata": {},
   "source": [
    "## Design concepts\n",
    "\n",
    "- the Young's modulus of the actuator should have the same order of magnitude as the layers\n",
    "- EAPs are able to perform large displacements, especially when they are pre-strechted\n",
    "- silicone based elastomers with electrodes made of thin silver layers (80 nm)\n",
    "- the electrodes are compliant only in one direction\n",
    "- silicone is an hyper-elastic material, here the Moony-Rivlin material model is used\n",
    "- this model is based on strain energy $W$ calculated from the invariants of $I_1$ and $I_2$ of the left Cauchy-Green deformation tensor\n",
    "\n",
    "![Sketch](sketch3.png)"
   ]
  },
  {
   "cell_type": "markdown",
   "id": "9d2e88c0",
   "metadata": {},
   "source": [
    "### Equations (6) & (7) & (8)\n",
    "\n",
    "- $I_1$ & $I_2$ as invariants\n",
    "- $\\lambda_1$, $\\lambda_2$, $\\lambda_3$ as strech ratios\n",
    "- $C_{10}$ & $C_{01}$ as constants\n",
    "- $W$ as strain energy\n",
    "- $\\sigma$ as stress\n",
    "- $p$ as hydrostatic pressure\n",
    "- $d_0$ as initial thickness of the EAP\n",
    "- $w_0$ as initial width of the EAP\n",
    "- $\\epsilon_0$ as absolute permittivity\n",
    "- $\\epsilon_r$ as relative permittivity\n",
    "- $V$ as volatge\n",
    "- $K$ as number of layers of the actuator"
   ]
  },
  {
   "cell_type": "code",
   "execution_count": 371,
   "id": "07c0e47b",
   "metadata": {},
   "outputs": [],
   "source": [
    "lambda1, lambda2, lambda3, C10, C01, p, d0, w0, epsilon0, epsilon_r, V, K, I1, I2 = sym.symbols('lambda1, lambda2, lambda3, C10, C01, p, d0, w0, epsilon0, epsilon_r, V, K, I1, I2',real = 'True')"
   ]
  },
  {
   "cell_type": "markdown",
   "id": "fd63094c",
   "metadata": {},
   "source": [
    "Invariants:"
   ]
  },
  {
   "cell_type": "code",
   "execution_count": 372,
   "id": "ccf6bf15",
   "metadata": {},
   "outputs": [
    {
     "data": {
      "text/latex": [
       "$\\displaystyle I_1 = \\lambda_{1}^{2} + \\lambda_{2}^{2} + \\lambda_{3}^{2}$"
      ],
      "text/plain": [
       "<IPython.core.display.Math object>"
      ]
     },
     "metadata": {},
     "output_type": "display_data"
    },
    {
     "data": {
      "text/latex": [
       "$\\displaystyle I_2 = \\frac{1}{\\lambda_{3}^{2}} + \\frac{1}{\\lambda_{2}^{2}} + \\frac{1}{\\lambda_{1}^{2}}$"
      ],
      "text/plain": [
       "<IPython.core.display.Math object>"
      ]
     },
     "metadata": {},
     "output_type": "display_data"
    }
   ],
   "source": [
    "I1 = lambda1**2 + lambda2**2 + lambda3**2\n",
    "I2 = lambda1**(-2) + lambda2**(-2) + lambda3**(-2)\n",
    "\n",
    "display(Math(r'$I_1 = {}$'.format(sym.latex(I1))))\n",
    "display(Math(r'$I_2 = {}$'.format(sym.latex(I2))))"
   ]
  },
  {
   "cell_type": "markdown",
   "id": "f641b1b0",
   "metadata": {},
   "source": [
    "Constitutive Model: Mooney-Rivlin"
   ]
  },
  {
   "cell_type": "code",
   "execution_count": 373,
   "id": "15647a01",
   "metadata": {},
   "outputs": [
    {
     "data": {
      "text/latex": [
       "$\\displaystyle W = C_{01} \\left(-3 + \\frac{1}{\\lambda_{3}^{2}} + \\frac{1}{\\lambda_{2}^{2}} + \\frac{1}{\\lambda_{1}^{2}}\\right) + C_{10} \\left(\\lambda_{1}^{2} + \\lambda_{2}^{2} + \\lambda_{3}^{2} - 3\\right)$"
      ],
      "text/plain": [
       "<IPython.core.display.Math object>"
      ]
     },
     "metadata": {},
     "output_type": "display_data"
    }
   ],
   "source": [
    "W = C10 * (I1 - 3) + C01 * (I2 - 3)\n",
    "display(Math(r'$W = {}$'.format(sym.latex(W))))"
   ]
  },
  {
   "cell_type": "markdown",
   "id": "71642bba",
   "metadata": {},
   "source": [
    "### Equation (10)\n",
    "Principal Cauchy stress for an incompressible hyperelastic material with external load and electro-mechanical pressure"
   ]
  },
  {
   "cell_type": "code",
   "execution_count": 374,
   "id": "a4a8f0e4",
   "metadata": {},
   "outputs": [
    {
     "data": {
      "text/latex": [
       "$\\displaystyle \\sigma_1 = - \\frac{2 C_{01}}{\\lambda_{1}^{3}} + 2 C_{10} \\lambda_{1} - p$"
      ],
      "text/plain": [
       "<IPython.core.display.Math object>"
      ]
     },
     "metadata": {},
     "output_type": "display_data"
    }
   ],
   "source": [
    "sigma1 = diff(W,lambda1) - p\n",
    "\n",
    "display(Math(r'$\\sigma_1 = {}$'.format(sym.latex(sigma1))))"
   ]
  },
  {
   "cell_type": "markdown",
   "id": "5866845d",
   "metadata": {},
   "source": [
    "From the paper:"
   ]
  },
  {
   "cell_type": "code",
   "execution_count": 375,
   "id": "b9b6f492",
   "metadata": {},
   "outputs": [
    {
     "data": {
      "text/latex": [
       "$\\displaystyle 2 C_{01} \\lambda_{1}^{2} - \\frac{2 C_{01}}{\\lambda_{1}^{2}} + 2 C_{10} \\lambda_{1}^{2} - \\frac{2 C_{10}}{\\lambda_{1}^{2}} - p$"
      ],
      "text/plain": [
       "2*C01*lambda1**2 - 2*C01/lambda1**2 + 2*C10*lambda1**2 - 2*C10/lambda1**2 - p"
      ]
     },
     "execution_count": 375,
     "metadata": {},
     "output_type": "execute_result"
    }
   ],
   "source": [
    "sym.expand(2*(C10 + C01)*(lambda1**2-1/lambda1**2)-p)"
   ]
  },
  {
   "cell_type": "markdown",
   "id": "4af39167",
   "metadata": {},
   "source": [
    "Looking for the source of this equation in the present form: \"Modeling and experimental verification of a dielectric polymer energy scavenging cycle\" source [16] and not as mentioned [18]. This a \"subsidiary\" cite. Finally, in [16] we found equation (9) which is the basis of equation (10) of the present work:"
   ]
  },
  {
   "cell_type": "code",
   "execution_count": 376,
   "id": "d607bf83",
   "metadata": {},
   "outputs": [
    {
     "data": {
      "text/latex": [
       "$\\displaystyle 2 K \\left(C_{01} + C_{10}\\right) \\left(\\lambda_{1}^{2} - \\frac{1}{\\lambda_{1}^{2}}\\right) - \\frac{V^{2} \\epsilon_{0} \\epsilon_{r} \\lambda_{1}^{2}}{d_{0}^{2}} = \\frac{F \\lambda_{1}}{d_{0} w_{0}}$"
      ],
      "text/plain": [
       "Eq(2*K*(C01 + C10)*(lambda1**2 - 1/lambda1**2) - V**2*epsilon0*epsilon_r*lambda1**2/d0**2, F*lambda1/(d0*w0))"
      ]
     },
     "metadata": {},
     "output_type": "display_data"
    }
   ],
   "source": [
    "eq10 = Eq(K*2*(C10 + C01)*(lambda1**2-1/lambda1**2) - epsilon0*epsilon_r*V**2*lambda1**2/d0**2, F*lambda1/(w0*d0))\n",
    "#eq10 = Eq(K*2*(C10 + C01/lambda1)*(lambda1**2-1/lambda1) - epsilon0*epsilon_r*V**2*lambda1**2/d0**2, F*lambda1/(w0*d0))\n",
    "\n",
    "display(eq10)"
   ]
  },
  {
   "cell_type": "markdown",
   "id": "1f10aebc",
   "metadata": {},
   "source": [
    "This equation is derived by putting in some comprehensive knowledge and cannot be found \"from one to antother line\". Furthermore, the following connection must be know to used it for further calculations, see [16] equation (2):"
   ]
  },
  {
   "cell_type": "code",
   "execution_count": 377,
   "id": "d5f18285",
   "metadata": {},
   "outputs": [
    {
     "data": {
      "text/latex": [
       "$\\displaystyle \\lambda_1 = x + 1$"
      ],
      "text/plain": [
       "<IPython.core.display.Math object>"
      ]
     },
     "metadata": {},
     "output_type": "display_data"
    }
   ],
   "source": [
    "lambda11 = 1 + x\n",
    "display(Math(r'$\\lambda_1 = {}$'.format(sym.latex(lambda11))))"
   ]
  },
  {
   "cell_type": "markdown",
   "id": "55a7626a",
   "metadata": {},
   "source": [
    "## Actuator design\n",
    "\n",
    "![Sketch](sketch4.png)\n",
    "This figures seems to be qualitatively. Since there are no parameters for the structure at all.\n",
    "\n",
    "![Sketch](sketch5.png)\n",
    "Sketch of the structure.\n",
    "\n",
    "![Sketch](sketch6.png)\n",
    "Rigid body model of the structure."
   ]
  },
  {
   "cell_type": "code",
   "execution_count": 378,
   "id": "4339b045",
   "metadata": {},
   "outputs": [],
   "source": [
    "u1, u2, F1, F2, alhpa, beta = sym.symbols('u1, u2, F1, F2, alhpa, beta',real = 'True')\n",
    "u1, u2, F1, F2, alhpa, beta = sym.symbols('u1, u2, F1, F2, alhpa, beta',real = 'True')\n"
   ]
  },
  {
   "cell_type": "markdown",
   "id": "70fe37ac",
   "metadata": {},
   "source": [
    "### Equation (11)\n",
    "\n",
    "$\\beta = \\tan(\\alpha) = \\frac{u_1}{u_2} = \\frac{F_2}{F_1}$"
   ]
  },
  {
   "cell_type": "markdown",
   "id": "3b8c6d75",
   "metadata": {},
   "source": [
    "![Sketch](sketch7.png)\n",
    "Checking our equation in comparison to this figure."
   ]
  },
  {
   "cell_type": "code",
   "execution_count": 379,
   "id": "2c3bc50b",
   "metadata": {},
   "outputs": [],
   "source": [
    "eq10 = eq10.subs(lambda1,lambda11)"
   ]
  },
  {
   "cell_type": "code",
   "execution_count": 380,
   "id": "f6b7b78b",
   "metadata": {},
   "outputs": [
    {
     "data": {
      "text/latex": [
       "$\\displaystyle 2 K \\left(C_{01} + C_{10}\\right) \\left(\\left(x + 1\\right)^{2} - \\frac{1}{\\left(x + 1\\right)^{2}}\\right) - \\frac{V^{2} \\epsilon_{0} \\epsilon_{r} \\left(x + 1\\right)^{2}}{d_{0}^{2}} = \\frac{F \\left(x + 1\\right)}{d_{0} w_{0}}$"
      ],
      "text/plain": [
       "Eq(2*K*(C01 + C10)*((x + 1)**2 - 1/(x + 1)**2) - V**2*epsilon0*epsilon_r*(x + 1)**2/d0**2, F*(x + 1)/(d0*w0))"
      ]
     },
     "metadata": {},
     "output_type": "display_data"
    }
   ],
   "source": [
    "display(eq10)"
   ]
  },
  {
   "cell_type": "code",
   "execution_count": 381,
   "id": "b78e886f",
   "metadata": {},
   "outputs": [
    {
     "data": {
      "text/latex": [
       "$\\displaystyle F = \\frac{w_{0} \\left(- 2 K d_{0}^{2} \\left(C_{01} + C_{10}\\right) + 2 K d_{0}^{2} \\left(x + 1\\right)^{3} \\left(C_{01} x + C_{01} + C_{10} x + C_{10}\\right) - V^{2} \\epsilon_{0} \\epsilon_{r} \\left(x + 1\\right)^{4}\\right)}{d_{0} \\left(x + 1\\right)^{3}}$"
      ],
      "text/plain": [
       "<IPython.core.display.Math object>"
      ]
     },
     "metadata": {},
     "output_type": "display_data"
    }
   ],
   "source": [
    "sol = solve(eq10,F)\n",
    "F = sol[0]\n",
    "display(Math(r'$F = {}$'.format(sym.latex(F))))"
   ]
  },
  {
   "cell_type": "markdown",
   "id": "ad814217",
   "metadata": {},
   "source": [
    "Parameters in SI units:"
   ]
  },
  {
   "cell_type": "code",
   "execution_count": 382,
   "id": "b8751dbe",
   "metadata": {},
   "outputs": [
    {
     "data": {
      "text/latex": [
       "$\\displaystyle \\frac{4000.0 \\left(- 0.000177 \\left(x + 1\\right)^{4} + 1.6 \\cdot 10^{-9} \\left(x + 1\\right)^{3} \\left(110000000000.0 x + 110000000000.0\\right) - 176.0\\right)}{\\left(x + 1\\right)^{3}}$"
      ],
      "text/plain": [
       "4000.0*(-0.000177*(x + 1)**4 + 1.6e-9*(x + 1)**3*(110000000000.0*x + 110000000000.0) - 176.0)/(x + 1)**3"
      ]
     },
     "execution_count": 382,
     "metadata": {},
     "output_type": "execute_result"
    }
   ],
   "source": [
    "val_w0 = 80*1E-3\n",
    "val_d0 = 20*1E-6\n",
    "val_V = 2500\n",
    "val_C10 = 0.07*1E6 * 1E6\n",
    "val_C01 = 0.04*1E6 * 1E6\n",
    "val_epsilon_r = 3.2\n",
    "val_epsilon0 = 8.85*1E-12\n",
    "val_K = 2\n",
    "\n",
    "F = F.subs([(w0,val_w0), (d0,val_d0), (V,val_V), (C10, val_C10), (C01, val_C01), (epsilon_r, val_epsilon_r), (epsilon0, val_epsilon0), (K, val_K)])\n",
    "F"
   ]
  },
  {
   "cell_type": "code",
   "execution_count": 383,
   "id": "c7b81070",
   "metadata": {},
   "outputs": [
    {
     "data": {
      "text/plain": [
       "array([-7.08000000e-01,  2.81107432e+03,  5.61445074e+03,  8.40946310e+03,\n",
       "        1.11961530e+04,  1.39745619e+04,  1.67447308e+04,  1.95067007e+04,\n",
       "        2.22605120e+04,  2.50062054e+04,  2.77438208e+04,  3.04733982e+04,\n",
       "        3.31949773e+04,  3.59085975e+04,  3.86142980e+04,  4.13121178e+04,\n",
       "        4.40020956e+04,  4.66842700e+04,  4.93586793e+04,  5.20253614e+04,\n",
       "        5.46843543e+04,  5.73356956e+04,  5.99794226e+04,  6.26155726e+04,\n",
       "        6.52441825e+04,  6.78652890e+04,  7.04789287e+04,  7.30851379e+04,\n",
       "        7.56839528e+04,  7.82754091e+04,  8.08595426e+04,  8.34363887e+04,\n",
       "        8.60059828e+04,  8.85683599e+04,  9.11235549e+04,  9.36716024e+04,\n",
       "        9.62125369e+04,  9.87463927e+04,  1.01273204e+05,  1.03793004e+05,\n",
       "        1.06305827e+05,  1.08811707e+05,  1.11310676e+05,  1.13802768e+05,\n",
       "        1.16288015e+05,  1.18766451e+05,  1.21238108e+05,  1.23703017e+05,\n",
       "        1.26161213e+05,  1.28612725e+05,  1.31057587e+05,  1.33495830e+05,\n",
       "        1.35927485e+05,  1.38352583e+05,  1.40771155e+05,  1.43183233e+05,\n",
       "        1.45588848e+05,  1.47988029e+05,  1.50380807e+05,  1.52767212e+05])"
      ]
     },
     "metadata": {},
     "output_type": "display_data"
    }
   ],
   "source": [
    "F_fun = lambdify(x,F,'numpy')\n",
    "#x_vals = np.arange(0,4.1*1E-3,0.1*1E-3)\n",
    "x_vals = np.arange(0,0.06,0.001)\n",
    "F_vals = F_fun(x_vals)\n",
    "\n",
    "display(F_vals)"
   ]
  },
  {
   "cell_type": "code",
   "execution_count": 384,
   "id": "12ee7a82",
   "metadata": {},
   "outputs": [
    {
     "data": {
      "image/png": "[encoded data removed]",
      "text/plain": [
       "<Figure size 432x288 with 1 Axes>"
      ]
     },
     "metadata": {
      "needs_background": "light"
     },
     "output_type": "display_data"
    }
   ],
   "source": [
    "plt.plot(x_vals*80,F_vals)\n",
    "plt.ylabel('F in [N]')\n",
    "plt.xlabel('deformation in [mm]')\n",
    "plt.grid()"
   ]
  },
  {
   "cell_type": "code",
   "execution_count": null,
   "id": "5850d3c9",
   "metadata": {},
   "outputs": [],
   "source": []
  }
 ],
 "metadata": {
  "kernelspec": {
   "display_name": "Python 3 (ipykernel)",
   "language": "python",
   "name": "python3"
  },
  "language_info": {
   "codemirror_mode": {
    "name": "ipython",
    "version": 3
   },
   "file_extension": ".py",
   "mimetype": "text/x-python",
   "name": "python",
   "nbconvert_exporter": "python",
   "pygments_lexer": "ipython3",
   "version": "3.9.6"
  }
 },
 "nbformat": 4,
 "nbformat_minor": 5
}
