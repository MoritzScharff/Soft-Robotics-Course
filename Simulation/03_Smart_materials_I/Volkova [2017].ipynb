{
 "cells": [
  {
   "cell_type": "markdown",
   "id": "21b660fa",
   "metadata": {},
   "source": [
    "# Volkova [2017]"
   ]
  },
  {
   "cell_type": "code",
   "execution_count": 72,
   "id": "996bcf8c",
   "metadata": {},
   "outputs": [
    {
     "name": "stdout",
     "output_type": "stream",
     "text": [
      "Once deleted, variables cannot be recovered. Proceed (y/[n])? y\n"
     ]
    }
   ],
   "source": [
    "%reset"
   ]
  },
  {
   "cell_type": "code",
   "execution_count": 73,
   "id": "bf7907ea",
   "metadata": {},
   "outputs": [],
   "source": [
    "import sympy as sym\n",
    "import numpy as np\n",
    "import matplotlib.pyplot as plt\n",
    "from sympy import Function, Symbol, Eq, solve, dsolve, Derivative, Matrix, Transpose, separatevars\n",
    "from sympy import *\n",
    "from sympy.vector import *\n",
    "from IPython.display import Math, Latex"
   ]
  },
  {
   "cell_type": "markdown",
   "id": "61c3327f",
   "metadata": {},
   "source": [
    "## Theoretical background\n",
    "\n",
    "Definition of variables:\n",
    "- $H$ as nonuniform magnetic field [Oe]\n",
    "- $\\nabla H$ as gradient of the magnetic field [Oe/cm]\n",
    "- $\\mu_f$ as magnetic permeability of the ferro fluid emu [-] \n",
    "- $\\mu_b$ as magnetic permeability of the body emu [-]\n",
    "- $x, y, z$ as Cartesian coordinate system [cm]\n",
    "- $F_m$ as magnetic force [N]\n",
    "- $M_f$ as magnetisation of the ferro fluid [Oe]\n",
    "- $M_b$ as magnetisation of the body [Oe]\n",
    "- $V$ as volume of the body [cm$^3$]\n",
    "\n",
    "- $M$ as dimension of mass [-]\n",
    "- $L$ as dimension of length [-]\n",
    "- $T$ as dimension of Time [-]"
   ]
  },
  {
   "cell_type": "markdown",
   "id": "701539be",
   "metadata": {},
   "source": [
    "## Dimension of equation (2)"
   ]
  },
  {
   "cell_type": "code",
   "execution_count": 88,
   "id": "87b3d10e",
   "metadata": {},
   "outputs": [],
   "source": [
    "M, L, T = sym.symbols('M, L, T',real = 'True')"
   ]
  },
  {
   "cell_type": "code",
   "execution_count": 89,
   "id": "30f652db",
   "metadata": {},
   "outputs": [
    {
     "data": {
      "text/latex": [
       "$\\displaystyle \\text{True}$"
      ],
      "text/plain": [
       "True"
      ]
     },
     "metadata": {},
     "output_type": "display_data"
    }
   ],
   "source": [
    "dimension = Eq(M*L/T**2, L**3 * sym.sqrt(M)/(sym.sqrt(L)*T) * sym.sqrt(M)/(sym.sqrt(L)*T*L))\n",
    "display(dimension)"
   ]
  },
  {
   "cell_type": "markdown",
   "id": "af0b9037",
   "metadata": {},
   "source": [
    "## Units of equation (2)"
   ]
  },
  {
   "cell_type": "code",
   "execution_count": 90,
   "id": "e9f50b82",
   "metadata": {},
   "outputs": [],
   "source": [
    "kg, g, s, m, cm = sym.symbols('kg, g, s, m, cm',real = 'True')"
   ]
  },
  {
   "cell_type": "code",
   "execution_count": 91,
   "id": "8e22bfb3",
   "metadata": {},
   "outputs": [
    {
     "data": {
      "text/latex": [
       "$\\displaystyle \\frac{kg m}{s^{2}} = \\frac{cm g}{s^{2}}$"
      ],
      "text/plain": [
       "Eq(kg*m/s**2, cm*g/s**2)"
      ]
     },
     "metadata": {},
     "output_type": "display_data"
    }
   ],
   "source": [
    "units = Eq(kg * m / s**2 , cm**3 * sym.sqrt(g) / (sym.sqrt(cm) * s) * sym.sqrt(g) / (sym.sqrt(cm) * s *cm))\n",
    "display(units)"
   ]
  },
  {
   "cell_type": "code",
   "execution_count": 92,
   "id": "be296ebd",
   "metadata": {},
   "outputs": [
    {
     "data": {
      "text/latex": [
       "$\\displaystyle \\frac{kg m}{s^{2}} = \\frac{1.0 \\cdot 10^{-5} kg m}{s^{2}}$"
      ],
      "text/plain": [
       "Eq(kg*m/s**2, 1.0e-5*kg*m/s**2)"
      ]
     },
     "execution_count": 92,
     "metadata": {},
     "output_type": "execute_result"
    }
   ],
   "source": [
    "cm_to_m = 0.01 * m\n",
    "g_to_kg = 0.001 * kg\n",
    "units.subs([(cm,cm_to_m),(g,g_to_kg)])"
   ]
  },
  {
   "cell_type": "code",
   "execution_count": 93,
   "id": "284f278e",
   "metadata": {},
   "outputs": [],
   "source": [
    "x, x_m = sym.symbols('x, x_m', real = 'True')"
   ]
  },
  {
   "cell_type": "code",
   "execution_count": 80,
   "id": "c88adaa1",
   "metadata": {},
   "outputs": [
    {
     "data": {
      "text/latex": [
       "$\\displaystyle 2.14466058485063$"
      ],
      "text/plain": [
       "2.14466058485063"
      ]
     },
     "metadata": {},
     "output_type": "display_data"
    },
    {
     "data": {
      "text/plain": [
       "2.1825"
      ]
     },
     "metadata": {},
     "output_type": "display_data"
    },
    {
     "data": {
      "text/latex": [
       "$\\displaystyle 4.18879020478639$"
      ],
      "text/plain": [
       "4.18879020478639"
      ]
     },
     "metadata": {},
     "output_type": "display_data"
    },
    {
     "data": {
      "text/plain": [
       "4.24375"
      ]
     },
     "metadata": {},
     "output_type": "display_data"
    }
   ],
   "source": [
    "val_x_m = 4.6 # cm\n",
    "x_s = 0 # cm\n",
    "\n",
    "m = 2.16*1e-16 # erg G**-1\n",
    "k = 1.38*1e-16 # erg K**-1\n",
    "T = 300 # K\n",
    "M_fS = 35.06 # emu cm**-3\n",
    "\n",
    "VI = 4/3*sym.pi* (1.6/2)**3 # cm**-3\n",
    "VIB = 0.9*0.97*2.5 # cm**-3\n",
    "VII = 4/3*sym.pi* (2.0/2)**3 # cm**-3\n",
    "VIIB = 1.75 * 0.97 * 2.5 # cm**-3\n",
    "\n",
    "mu_b = 1\n",
    "\n",
    "display(N(VI), VIB, N(VII), VIIB)"
   ]
  },
  {
   "cell_type": "markdown",
   "id": "c37d6c9d",
   "metadata": {},
   "source": [
    "## Equation (4)"
   ]
  },
  {
   "cell_type": "code",
   "execution_count": 81,
   "id": "b489636d",
   "metadata": {},
   "outputs": [
    {
     "data": {
      "image/png": "[encoded data removed]",
      "text/plain": [
       "<Figure size 432x288 with 1 Axes>"
      ]
     },
     "metadata": {
      "needs_background": "light"
     },
     "output_type": "display_data"
    }
   ],
   "source": [
    "H_fun = lambdify((x, x_m),4152*exp(-0.99*(x_m-x)) + 184.5*exp(-0.1*(x_m-x)),'numpy')\n",
    "x_m_vals = np.arange(7, 2 ,-0.001)\n",
    "H_vals = H_fun(0,x_m_vals)\n",
    "\n",
    "\n",
    "#H_fun = lambdify((x),4152*exp(-0.99*(x)) + 184.5*exp(-0.1*(x)),'numpy')\n",
    "#x_vals = np.arange(0, 4 ,0.001)\n",
    "#H_vals = H_fun(x_vals)\n",
    "#plt.plot(x_vals, H_vals)\n",
    "\n",
    "plt.plot(x_m_vals, H_vals)\n",
    "plt.plot(4.6, H_fun(0,4.6), '.', markersize = 12)\n",
    "plt.plot(2.1, H_fun(0,2.1), '.', markersize = 12)\n",
    "plt.ylabel('$H$ in [Oe]')\n",
    "plt.xlabel('$x_m$ in [cm] for $x_s = 0$')\n",
    "plt.grid()"
   ]
  },
  {
   "cell_type": "markdown",
   "id": "3d4d06e6",
   "metadata": {},
   "source": [
    "## Equation (1)"
   ]
  },
  {
   "cell_type": "code",
   "execution_count": 100,
   "id": "cd8a3e4a",
   "metadata": {},
   "outputs": [
    {
     "data": {
      "image/png": "[encoded data removed]",
      "text/plain": [
       "<Figure size 432x288 with 1 Axes>"
      ]
     },
     "metadata": {
      "needs_background": "light"
     },
     "output_type": "display_data"
    }
   ],
   "source": [
    "dH_fun = lambdify((x, x_m),diff(4152*exp(-0.99*(x_m-x)) + 184.5*exp(-0.1*(x_m-x)),x),'numpy')\n",
    "dH_vals = dH_fun(0, x_m_vals)\n",
    "plt.plot(x_m_vals, dH_vals)\n",
    "plt.ylabel('$d H/dx$ in [Oe/cm]')\n",
    "plt.xlabel('$x_m$ in [cm] for $x_s = 0$')\n",
    "plt.grid()"
   ]
  },
  {
   "cell_type": "markdown",
   "id": "397d269b",
   "metadata": {},
   "source": [
    "## Equation (5)"
   ]
  },
  {
   "cell_type": "code",
   "execution_count": 84,
   "id": "86718d3f",
   "metadata": {},
   "outputs": [],
   "source": [
    "xi = m* H_vals / (k*T)\n",
    "M_f = M_fS * (np.cosh(xi)/np.sinh(xi) - xi**(-1))"
   ]
  },
  {
   "cell_type": "markdown",
   "id": "8b6f220d",
   "metadata": {},
   "source": [
    "For equation (2) $M_b(H_S)$ is requiered as well, but there is no information about it, besides $\\mu_b = 1$.\n",
    "Looking into a text book:\n",
    "\n",
    "- $\\vec{M} = (\\mu - 1) \\cdot \\vec{H}$"
   ]
  },
  {
   "cell_type": "code",
   "execution_count": 101,
   "id": "44c9f432",
   "metadata": {},
   "outputs": [],
   "source": [
    "M_b = (mu_b - 1) * H_fun(0,x_m_vals)"
   ]
  },
  {
   "cell_type": "code",
   "execution_count": 102,
   "id": "3864eeb1",
   "metadata": {},
   "outputs": [],
   "source": [
    "F_mI = - VIB*(M_b-M_f)*dH_vals *  1e-5\n",
    "F_mII = - VIIB*(M_b-M_f)*dH_vals *  1e-5"
   ]
  },
  {
   "cell_type": "code",
   "execution_count": 103,
   "id": "3c0e7345",
   "metadata": {},
   "outputs": [
    {
     "data": {
      "image/png": "[encoded data removed]",
      "text/plain": [
       "<Figure size 432x288 with 1 Axes>"
      ]
     },
     "metadata": {
      "needs_background": "light"
     },
     "output_type": "display_data"
    }
   ],
   "source": [
    "plt.plot(H_vals, F_mI)\n",
    "plt.plot(H_vals, F_mII)\n",
    "plt.xlabel('$H(0)$ in [Oe]')\n",
    "plt.ylabel('$F_m$ in [N]')\n",
    "plt.grid()"
   ]
  },
  {
   "cell_type": "code",
   "execution_count": null,
   "id": "2486e8de",
   "metadata": {},
   "outputs": [],
   "source": []
  },
  {
   "cell_type": "code",
   "execution_count": null,
   "id": "11fe8fcd",
   "metadata": {},
   "outputs": [],
   "source": []
  }
 ],
 "metadata": {
  "kernelspec": {
   "display_name": "Python 3 (ipykernel)",
   "language": "python",
   "name": "python3"
  },
  "language_info": {
   "codemirror_mode": {
    "name": "ipython",
    "version": 3
   },
   "file_extension": ".py",
   "mimetype": "text/x-python",
   "name": "python",
   "nbconvert_exporter": "python",
   "pygments_lexer": "ipython3",
   "version": "3.9.6"
  }
 },
 "nbformat": 4,
 "nbformat_minor": 5
}
